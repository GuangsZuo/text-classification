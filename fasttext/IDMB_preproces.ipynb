{
 "cells": [
  {
   "cell_type": "code",
   "execution_count": 1,
   "metadata": {},
   "outputs": [],
   "source": [
    "import pandas as pd\n",
    "from tqdm import tqdm\n",
    "import glob\n",
    "import os\n",
    "import re"
   ]
  },
  {
   "cell_type": "code",
   "execution_count": 2,
   "metadata": {},
   "outputs": [],
   "source": [
    "data = {\"text\":[], \"score\":[]}\n",
    "for file in glob.glob(\"../aclImdb/train/pos/*.txt\"):\n",
    "    f = open(file,mode=\"r\")\n",
    "    sentence = f.read()\n",
    "    score = int(re.search(\"\\d*_(\\d*).txt\",file).group(1))\n",
    "    data[\"text\"].append(sentence)\n",
    "    data[\"score\"].append(score)\n",
    "    f.close()\n",
    "for file in glob.glob(\"../aclImdb/train/neg/*.txt\"):\n",
    "    f = open(file,mode=\"r\")\n",
    "    sentence = f.read()\n",
    "    score = int(re.search(\"\\d*_(\\d*).txt\",file).group(1))\n",
    "    data[\"text\"].append(sentence)\n",
    "    data[\"score\"].append(score)\n",
    "    f.close()\n",
    "df = pd.DataFrame.from_dict(data)\n",
    "df.to_csv(\"train.csv\",index=False)"
   ]
  },
  {
   "cell_type": "code",
   "execution_count": 3,
   "metadata": {},
   "outputs": [
    {
     "data": {
      "text/plain": [
       "0"
      ]
     },
     "execution_count": 3,
     "metadata": {},
     "output_type": "execute_result"
    }
   ],
   "source": [
    "import gc\n",
    "del df,data\n",
    "gc.collect()"
   ]
  },
  {
   "cell_type": "code",
   "execution_count": 4,
   "metadata": {},
   "outputs": [],
   "source": [
    "data = {\"text\":[], \"score\":[]}\n",
    "for file in glob.glob(\"../aclImdb/test/pos/*.txt\"):\n",
    "    f = open(file,mode=\"r\")\n",
    "    sentence = f.read()\n",
    "    score = int(re.search(\"\\d*_(\\d*).txt\",file).group(1))\n",
    "    data[\"text\"].append(sentence)\n",
    "    data[\"score\"].append(score)\n",
    "    f.close()\n",
    "for file in glob.glob(\"../aclImdb/test/neg/*.txt\"):\n",
    "    f = open(file,mode=\"r\")\n",
    "    sentence = f.read()\n",
    "    score = int(re.search(\"\\d*_(\\d*).txt\",file).group(1))\n",
    "    data[\"text\"].append(sentence)\n",
    "    data[\"score\"].append(score)\n",
    "    f.close()\n",
    "df = pd.DataFrame.from_dict(data)\n",
    "df.to_csv(\"test.csv\",index=False)"
   ]
  },
  {
   "cell_type": "code",
   "execution_count": null,
   "metadata": {},
   "outputs": [],
   "source": []
  }
 ],
 "metadata": {
  "kernelspec": {
   "display_name": "Python 3",
   "language": "python",
   "name": "python3"
  },
  "language_info": {
   "codemirror_mode": {
    "name": "ipython",
    "version": 3
   },
   "file_extension": ".py",
   "mimetype": "text/x-python",
   "name": "python",
   "nbconvert_exporter": "python",
   "pygments_lexer": "ipython3",
   "version": "3.5.2"
  }
 },
 "nbformat": 4,
 "nbformat_minor": 2
}
